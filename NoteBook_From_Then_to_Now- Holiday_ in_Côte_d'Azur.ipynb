{
 "cells": [
  {
   "cell_type": "markdown",
   "id": "283486e6",
   "metadata": {},
   "source": [
    "# From Then to Now: Holidays in Côte d'Azur\n"
   ]
  },
  {
   "cell_type": "markdown",
   "id": "6b387ff4",
   "metadata": {},
   "source": [
    "# Introduction"
   ]
  },
  {
   "cell_type": "markdown",
   "id": "118395df",
   "metadata": {},
   "source": [
    "Travel has always played a crucial role in shaping culture and preserving cultural heritage. It allows individuals to experience different environments, meet new people, and understand diverse traditions. This project explores how travel influences our perception of cultural heritage by focusing on a unique object from the University of Glasgow Special Collections.\n",
    "\n",
    "For this project, a travel diary from the 19th century was chosen. The diary has recorded an individual's experiences while visiting the Côte d'Azur, also known as the French Riviera. Extracts and drawings from the diary were selected to create a storybook, aimed at children, to educate them on the cultural heritage aspects of tourism as well as the evolution of travel experiences by comparing the 19th-century experiences to modern-day ones.\n",
    "This resulted in a storybook with AI-generated images depicting the diary experiences, on one side of the book. \n",
    "\n",
    "While the other side of the book depicts the modern-day counterpart. AI-generated text was also created to accompany the images and tell the paralleling stories to the children. The images and text were composed onto an image of a storybook, created by the author using a graphic design tool, combining human creativity with AI creativity.\n",
    "\n",
    "A prototype of the [final product](#FinalProduct) can be seen at the end of the notebook. The [methodology](#method) and [product execution](#execution) are also explained."
   ]
  },
  {
   "cell_type": "markdown",
   "id": "3a7a13a0",
   "metadata": {},
   "source": [
    "## Context\n",
    "\n",
    "### **Chosen Object:** 19th century travel journal\n",
    "\n",
    "For this project, I selected the object \"Journal of a continental tour\", henceforth referred to as the Travel Diary. This object is stored within the Hunterian Museum's Archives & Special Collections, owned by the University of Glasgow. Visits to view the journal can be arranged by booking an appointment which can be made via email (library-asc@glasgow.ac.uk). \n",
    "\n",
    "Upon my own visit to the Archives & Special Collection, I took photos of the illustrations within the diary, which are displayed later in the notebook. An essential document which allowed me to interpret the journal was the transcript created by Robert McLean, which can be seen below. [Go to transcript](#transcript)\n",
    "\n",
    "\n",
    "**Travel Diary Contents:**\n",
    "- A travel journal from between 1867 and 1868\n",
    "- Detailed and witty encounters of the author’s travels in the south of France\n",
    "- Illustrations of events from travels, (the author was a children’s book illustrator)\n",
    "- Early photographs of the scenery\n",
    "- A manual transcript of the journal\n",
    "\n",
    "\n",
    "**Metadata of Chosen Object**\n",
    "- Department: Archives and Special Collections\n",
    "- Collection: Manuscripts\n",
    "- Reference Code: GB 247 MS Gen 13\n",
    "- Title: Journal of a continental tour\n",
    "- Written by: Andrew MacGeorge\n",
    "- Access more information on the Journal of a continental tour [here](https://www.gla.ac.uk/collections/#/details?irn=250262&catType=C&referrer=/results&q=ms+gen+13)\n",
    "\n",
    "\n",
    "**Significance of the Diary:**\n",
    "The diary is unique as it was written by a Scottish author and illustrator, acting as a primary source for early travel experiences from the 19th century. It allows readers to understand the nature of travelling during this time. The education which is typically offered on 19th century Scotland and France is usually relating to the overall politics and events the countries as a whole faced, with little insights into personal accounts. However, the diary offers a first hand account and observation of an individual’s life throughout the time period of a few months, which is a rare opportunity.\n",
    "\n",
    "Furthermore, the diary can lead to questioning on social issues from the author's travel experiences, as he is arguably unaware of his privileged position to be able to travel, having spent a great deal of the journal complaining about the weather. The project reflects this by contrasting to a modern day travel experience.\n",
    "\n",
    "Finally, the diary can reflect broader trends which existed during this time, as the author was a wealthy Scotsman travelling to a destination which had recently become a popular holiday destination, a trend which has continued to modern day. \n",
    "\n",
    "**Why did I choose the diary?:**\n",
    "The diary was selected for this project as it was the object which interested me the most, as it is the one I could relate the most to. This is due to my own plans to travel to the south of France later this year, with my own travel plans being very similar to Andrew MacGeorge's, therefore, there was a personal ability for me to identify the cultural heritage object.\n"
   ]
  },
  {
   "cell_type": "markdown",
   "id": "b2427a5b",
   "metadata": {},
   "source": [
    "<a id=\"transcript\"></a>"
   ]
  },
  {
   "cell_type": "markdown",
   "id": "40e7f43d",
   "metadata": {},
   "source": [
    "<div class=\"alert alert-block alert-info\">\n",
    "<b>Tip:</b> The next cell contains python code, click on \"run\" to see the contents.\n",
    "</div>"
   ]
  },
  {
   "cell_type": "code",
   "execution_count": 1,
   "id": "3aa8bf32",
   "metadata": {},
   "outputs": [
    {
     "data": {
      "text/html": [
       "\n",
       "        <iframe\n",
       "            width=\"900\"\n",
       "            height=\"1000\"\n",
       "            src=\"Travel_Diary_transcript_MSGen13-with_my_highlighting.pdf\"\n",
       "            frameborder=\"0\"\n",
       "            allowfullscreen\n",
       "            \n",
       "        ></iframe>\n",
       "        "
      ],
      "text/plain": [
       "<IPython.lib.display.IFrame at 0x7ff2f8dc8a60>"
      ]
     },
     "execution_count": 1,
     "metadata": {},
     "output_type": "execute_result"
    }
   ],
   "source": [
    "### View Robert McLean's transcript here, with additional highlighting indicating which parts of the transcript were adapted\n",
    "\n",
    "from IPython.display import IFrame\n",
    "IFrame(\"Travel_Diary_transcript_MSGen13-with_my_highlighting.pdf\", width=900, height=1000) \n"
   ]
  },
  {
   "cell_type": "markdown",
   "id": "18c164fd",
   "metadata": {},
   "source": [
    "## Related Cultural Heritage\n",
    "\n",
    "### 19th Century Scotland\n",
    "**Industrial Revolution:** \n",
    "During the 19th century, Scotland's 'Industrial Revolution' took place. Some historians argue that by the end of the century Scotland had achieved greater industrial success than the rest of Britain. Scotland experienced industrial growth in the textile industry, iron and coal prodduction, shipbuilding and heavy engineering, and entrepreneurship.\n",
    "\n",
    "**The Highlands:** \n",
    "In the 19th century, the population in the Scottish Highlands saw a significant decline, largely due to several interrelated factors. One major cause was the Highland Clearances, a process where landlords forcibly removed crofters from their homes to convert the land into sheep farms. This shift was driven by the profitability of sheep farming compared to traditional small-scale agriculture. Another factor was the challenging fertility of Highland soils, compounded by the devastating potato famine of the mid-19th century. The famine severely impacted food security and made it even more difficult for Highland residents to sustain their livelihoods. The collapse of key industries, such as kelp harvesting and fishing, further exacerbated the economic hardships in the region. These conditions led to widespread displacement and migration, with many Highlanders relocating to Scotland's central belt or emigrating to countries like America and Australia. This population movement contributed to the decline of the Gaelic language, traditionally spoken in the northern Highlands, while the southern regions of Scotland primarily spoke English.\n",
    "\n",
    "\n",
    "**Social Structure:** \n",
    "The traditional landowning class experienced significant shifts, with some benefiting from mineral rights linked to industrialization, while others faced instability and financial challenges. The landowners did not command the same automatic respect as in England, partly due to their association with the corrupt unreformed political system. The upper class Within the middle class, a dynamic business cadre emerged, with many merging into the landowning aristocracy through marriage or estate purchases. The middle class, consisting of a mix of business people and professionals, played a crucial role in local governance and town life. The working class faced internal divisions, with a distinct gap between skilled workers and the less skilled. Skilled workers, often called the \"aristocrats of labour,\" aligned more with the middle class and typically held stable positions with union representation. The unskilled and casual workforce, however, faced sporadic employment and challenging conditions, with little union support.\n",
    "\n",
    "**Women:**\n",
    "Women had limited roles, primarily in supportive and domestic capacities. However, they accounted for a large portion of the labour force, specifically textiles. Middle-class women tended to opt for Philanthropy roles. Towards the end of the century many middle-class women became school teachers.\n",
    "\n",
    "**Art:**\n",
    "While Scotland experienced significant economic success, its contributions to arts and culture were generally less impressive, particularly in areas like drama and sculpture. A cultural trend in nineteenth-century Scotland where artistic and literary works preferred simpler, romanticized themes over the harsh realities of industrialization and urban growth. Within this, literature fell into sentimental tropes and paintings focused on pretty landscapes.often opting for nostalgia over engagement with contemporary realities.Some painters related developments in French Impressionism to the Scottish context.\n",
    "\n",
    "**Politics:** \n",
    "The First Reform Act of 1832, prompted Scottish politics to remain firmly antiTory for the rest of the century, contrasting to England. Instead, the Scots favoured Liberalism.\n",
    "\n",
    "\n",
    "\n",
    "\n",
    "### History of  the French Riviera\n",
    "The French Riviera, also known as the Côte d’Azur, has undergone a significant transformation from its origins as a group of rustic fishing villages in the south of France and Monaco to one of the world's most coveted luxury destinations. In ancient times, it was inhabited by ancient Greek sailors, followed by Roman settlers who established extensive communities. With the fall of the Western Roman Empire, various Germanic barbarians, Saracens, and Normans invaded the area.\n",
    "\n",
    "The House of Grimaldi, which today governs Monaco, arrived in the 13th century through a infamous conquest involving deceit and violence. The region saw further changes in the 18th century when British aristocrats started visiting for health reasons, seeking relief from tuberculosis in the warm, dry climate. It then grew in popularity as a holiday destination. The arrival of the railway in the 19th century marked a significant turning point, linking the Riviera with the rest of Europe, leading to the construction of casinos and grand hotels. This attracted the European elite, including kings, tsars, and nobles. By 1887, the region was officially named Côte d'Azur.\n",
    "\n",
    "The 20th century brought American visitors, who hosted extravagant parties that attracted intellectuals and artists like F. Scott Fitzgerald, Pablo Picasso, and Ernest Hemingway. This period saw the Riviera evolve into a haven for indulgence and a hub for culture and art. Coco Chanel's promotion of sunbathing and the later acceptance of bikinis reflected the growing sense of freedom and liberation in the area.\n",
    "\n",
    "By the 1950s, Hollywood stars such as Grace Kelly and Rita Hayworth frequented the French Riviera, further cementing its status as a luxury destination. Despite changes in clientele over the years, the Riviera remains synonymous with opulence, hosting events like the Cannes Film Festival, and serving as a playground for modern-day aristocrats and celebrities. The French Riviera's unique blend of luxury, culture, and relaxed lifestyle continues to attract visitors worldwide, embodying a timeless allure that has endured through the ages.\n",
    "\n",
    "\n",
    "\n",
    "### Cultural Heritage and Tourism\n",
    "From the early days of human history, travel has had different motivations, shifting through various periods. Initially, travel was driven by hunters tracking their prey and by traders interacting with neighboring groups. The seasonal migration of pastoral people with their herds illustrated a form of extended travel away from their village or community. As societies developed, trade in valuable goods like food, furs, precious metals, spices, and textiles encouraged merchants to travel further. In Asia, religious pilgrimages to places of spiritual importance were conducted well before the Christian pilgrimage movement to the Holy Land in the early centuries after Christ, facilitated by Mediterranean shipping routes and Roman highways. By the medieval period, global explorations and colonisation led to more regions being \"discovered\" by outsiders.\n",
    "\n",
    "All these historical travel trends laid the groundwork for contemporary tourism. Many ancient paths and trade routes evolved into today's highly travelled roads. Hotels and road signs emerged along these routes, indicating that various types of tourism had already taken shape by the 15th century. The Grand Tour, from the 1600s to the mid-1800s, was a historical phase of heritage tourism where young European men of social and financial means traveled to cities like Paris, Rome, and Florence, often with tutors, to explore classical art, history, and architecture, representing one of the earliest examples of prepackaged cultural tours in Europe. The post-industrial era of the 20th century saw the rise of travel for leisure and pleasure, with modern mobility trends characterised by increased independent travel and diverse destinations. Now, cultural heritage plays a significant role in tourism, with hundreds of millions of people traveling each year for education, relaxation, enjoyment, and other motives. This diverse landscape of cultural and heritage tourism underscores the importance of understanding its history and evolution.\n",
    "\n",
    "### Why is it important to learn about the history of tourism?\n",
    "- The history of tourism provides insights into how travel and tourism have evolved over time. It helps us understand the socio-economic, cultural, and technological changes that have shaped tourism practices throughout the ages.\n",
    "- Knowledge of tourism history allows us to contextualize current trends and developments. Understanding past practices can explain why certain destinations, forms of tourism, or travel behaviors are popular today.\n",
    "- Tourism has a significant impact on cultures and societies. Studying the history of tourism reveals how travel has influenced cultural exchange, preservation, and transformation over time.\n",
    "- The history of tourism offers a wealth of stories, from adventurous explorations to significant cultural exchanges. These stories can enrich the tourism experience and contribute to the storytelling and marketing strategies used in the industry.\n",
    "\n",
    "\n",
    "\n",
    "### **Engaging the public:**\n",
    "Therefore, by keeping in mind the importance of cultural heritage in relation to tourism, this project seeks to educate children on the history of travelling, while also offering insights to Scotland's culture at this time. The project aims to achieve this by contrasting the travel experiences of they diarist Andrew MacGeorge to an example of today's travel experiences - drawing on differences and similarities which can showcase trends. In order to engage children, colourful illustrations were generated and an interactive element of the page turning was implemented.\n",
    "<br>\n",
    "<br>"
   ]
  },
  {
   "cell_type": "markdown",
   "id": "43f0dee9",
   "metadata": {},
   "source": [
    "## Objectives\n",
    "\n",
    "The project aims to educate children on the history of travelling, at an introductionary level which can promote further discussions, acting as a foundation for future educating. However, the project should be usable and enjoyable by adults too, as a way to engage with the cultural heritage object, which would otherwise be difficult to access. \n",
    "\n",
    "The main goals are:\n",
    "\n",
    "1. Educate children on the history of travelling.\n",
    "2. The project can provide insights into 19th-century travel experiences, offering a glimpse into the cultural, social, and economic landscapes of the time.  The project can highlight the cultural differences from 19th century travel practices and todays, as today the south of France is considered a luxurious destination.\n",
    "3. Allow readers to consider the accessibility of travelling today compared to the late 19th century travel experiences.\n",
    "4. The project aims to highlight the importance of preserving historical heritage documents and artifacts through digital means, allowing broader access and appreciation of cultural heritage. While also making them engaging.\n",
    "5. Utilise the collaboration between human creativity and generative AI to produce a images which can be enjoyed in a similar way to the others illustrations which would have been produced by the author. However, this project aims to achieve this by using modern AI technology by creating a digital storybook. Therefore, the contents of the diary are displayed in a condensed format which is familiar to users.\n",
    " \n",
    "<br>\n",
    "<br>\n"
   ]
  },
  {
   "cell_type": "markdown",
   "id": "63334816",
   "metadata": {},
   "source": [
    "<a id=\"method\"></a>"
   ]
  },
  {
   "cell_type": "markdown",
   "id": "2f86963b",
   "metadata": {},
   "source": [
    "# Methodology"
   ]
  },
  {
   "cell_type": "markdown",
   "id": "2d21f4e2",
   "metadata": {},
   "source": [
    "## Human and AI Collaboration\n",
    "\n",
    "### How Generative AI was used:\n",
    "**Enhancing Illustrations:**\n",
    "Generative AI was used to transform the original illustrations from the travel journal, into cartoons.\n",
    "\n",
    "\n",
    "**Generating New Content:**\n",
    "New illustrations were also created by using descriptions and text extracts from the diary. This can expanded the usability beyond its original scope, as there were a limited number of illustrations and photographs in the dairy, while there was an abundance of text, which is overwhelming if you are reading the original diary. \n",
    "New illustrations were also created to create a parallel story of modern-day travel experiences based on my own research and formulated storyline.\n",
    "\n",
    "\n",
    "**Generative Text Generation:** \n",
    "I manually identified the key themes and events from the transcript. Then used generative AI to create new text based on these events, which will preserve the original context. This text formed the captions and text of the digital storybook, leading to a more digestible and consumable book for the reader. \n",
    "\n",
    "### Human Creativity:\n",
    "Human creativity was used by coming up with the overall idea - creating a digital storybook which showcases 2 timelines. Additionally, human creativity was used as I acted as the creative director of the project. \n",
    "\n",
    "Throughout the process my responsibilities included:\n",
    "- Deciding what events from the diary were relevant\n",
    "- Formulating the prompts\n",
    "- Deciding if the images were suitable, the correct artistic style and relevant\n",
    "- Editing some images and shortening text generations which were too long.\n",
    "- Compiling everything all together into a storybook\n",
    "\n",
    "### Human and AI Creativity\n",
    "Human and AI can collaborate in many different ways, it is not restricted to the approach I adopted. Large Language Model Chatbots can be used to aid in brainstorming processes at the beginning of projects and the expansion of ideas. Additionally, it can be used to help communicate ideas which would otherwise be difficult to explain or describe. In many ways, AI is the perfect assistant for humans in the creative process. Despite not having any capabilities of harnessing its own creativity, AI, does have access to an abundance of information where it learns from human creativity. Therefore, it can be the perfect tool to get the ball rolling, aid with repetitive tasks and generate content the user may not have the skill to achieve themselves. \n"
   ]
  },
  {
   "cell_type": "markdown",
   "id": "4dd70507",
   "metadata": {},
   "source": [
    "## Generative AI\n",
    "Generative AI is technology which has become very popular with the rise of AI chat assistants, like Chat GPT. Generative AI works through the use of Generative Adversarial Networks (GANs). GANs are made up from two neural networks (which a machine learning models inspired from the structure of human and animal brains). These neural networks are the Generator and the Discriminator. The Generator takes an input of data and attempts to generate new data which is similar to the real thing. The Discriminator evaluates the newly generated data and the real data, it then tries to determine which one is which. This process allows the GAN to learn and create better results as time goes on. \n",
    "\n",
    "### Tools Used:\n",
    "- Chat GPT-4\n",
    "- Dall-E\n",
    "These tools are appropriate for the project as the final product is intended to be replicated by cultural heritage institutions. It is therefore essential the tools are budget friendly, and don't require a substantial amount of coding abilities or digital illustrating skills. \n",
    "\n",
    "### Chat GPT-4\n",
    "In a nutshell, Chat GPT-4 operates by reading a prompt the user inputs, then outputting a generation of text it has predicted will be the best response. \n",
    "\n",
    "Chat GPT has been developed by OpenAI and can be used for a wide range of tasks, such as writing poetry and helping plan a holiday. Chat GPT is based on another Large Language Model (LLM), GPT-4, which contained vast amounts of data from the internet. Chat GPT-4 was fine-tuned using Reinforcement Learning from Human Feedback (RLHF), this improved its usability as a question-and-answer tool, as opposed to a more general text-predictor. \n",
    "\n",
    "### Dall-E\n",
    "Dall-E has been integrated into Chat GPT-4, it takes prompts, descriptions or images and outputs an image it generated in real time.\n",
    "\n",
    "Dall-E was trained on large datasets of images with corresponding text descriptions. It is trained to pick out the important features of these images and encode the data, which is later decoded to produce a similar image. The same process is used for the text which accompanies the images. The CLIP (Contrastive Language–Image Pre-training) Model is trained to judge the relation between the images and the text to provide the foundations by which the images are generated. A diffusion model, called GLIDE, is used to produce images which closely relate to the prompt.\n",
    "\n",
    "<img src=\"Dall-e/text_to_image_encoding_2.png\" width=\"500\"/>\n",
    "<img src=\"Dall-e/diffusion.png\" width=\"500\"/>\n",
    "\n",
    "_[Source](https://www.assemblyai.com/blog/how-dall-e-2-actually-works/)_\n",
    "\n",
    "<div class=\"alert alert-block alert-warning\"> Note that the encoder, decoder, CLIP, and GLIDE are neural networks, which highlights how varied a neural network can be!! </div>\n",
    "\n",
    "\n",
    "\n",
    "\n"
   ]
  },
  {
   "attachments": {
    "workflow.jpg": {
     "image/jpeg": "[encoded data removed]"
    }
   },
   "cell_type": "markdown",
   "id": "d818fad4",
   "metadata": {},
   "source": [
    "## Design Approach\n",
    "\n",
    "### Roadmap\n",
    "![workflow.jpg](attachment:workflow.jpg)\n",
    "\n",
    "**Research**\n",
    "\n",
    "To accurately produce an educational resource, and understand the contents of the journal, I began by conducting research into the history of the diary. This included researching 19th century Scotland, which offered context for the time period. I then researched the history of the French Riviera as this is where most of the diary takes place. In order to understand the value of the journal, I researched tourism in the context of cultural heritage, as these are the themes of the object within the setting of the humanities. Finally, I researched modern day tourism to the French Riviera, in order to accurately portray the parallel story. For this to be an authentic story, like the diary, I drew on videos from social media and my own travel experiences to accompany the research and tell a realistic story to contrast the 1867 storyline.\n",
    "\n",
    "\n",
    "\n",
    "**Analysis of Transcript**\n",
    "\n",
    "I then read through the transcript of the diary and identified the key events, text extracts, and images which could be used in the storybook. These were compiled into a separate document, ready to be used as prompts for the generative AI art. \n",
    "\n",
    "\n",
    "\n",
    "**AI Generation**\n",
    "\n",
    "I began by using Chat GPT 4's Dall-E to use the previously compiled prompts to generate cartoon images for the storybook. This involved a lot of back and forth, with my own comments being added to achieve the desired result. At this point, I worked with my peers to decide the best methods for using minimal prompts. Once satisfied with the images for the 1867 storyline, I instructed Chat GPT 4 to generate accompanying text to provide the passages for the readers, in a style that was suitable for children. Next, I repeated this cycle to generate the images for the 2024 storyline, typically using real-life photographs and instructing the large-language-model to transform them into a cartoon. Finally, I had Chat GPT generate text to accompany the 2024 images it created.\n",
    "\n",
    "\n",
    "\n",
    "**Compiling**\n",
    "\n",
    "In order to compile the generations into a storybook, I designed my own background of a storybook which had suitable ratios. Within a graphic design app, I pasted the images and text into the book, using the left-hand pages for the 1867 storyline, and the right-hand pages for the 2024 storyline. Next, I used a page-turning transition to imitate the effect of the book pages flipping. The aim of the transition was to make the book interactive, so children can read through it at their own pace. I exported this as a movie, which acts as a prototype for the digital storybook. However, if this were to be used by a gallery, library, archive or museum, it would ideally allow the users to click through the pages with the transitions. Once complete, my peers and peer support group used the interactive storybook (facilitated through PowerPoint), and offered feedback, from this, final alterations were made.\n",
    "\n",
    "<br>\n"
   ]
  },
  {
   "cell_type": "markdown",
   "id": "e0c46eaa",
   "metadata": {},
   "source": [
    "<a id=\"execution\"></a>"
   ]
  },
  {
   "cell_type": "markdown",
   "id": "88ef04a6",
   "metadata": {},
   "source": [
    "# Project Production\n",
    "\n",
    "## 1867 Image Generations\n",
    "During the creation of the project, the most time consuming part was the generations of images, using the diary as a source. Below are some examples of how Chat GPT-4 was used to produce the images.\n",
    "\n",
    "\n",
    "**Prompt**\n",
    "<br>\n",
    "<img src=\"Original_Sketches/packing_og.png\" width=\"500\"/>\n",
    "\n",
    "<br>\n",
    "Create a colourful cartoon of this sketch. The lady is on the left overpacking. The man is on the right, stressed and frustrated, he is pulling his hair. It is set in 1867. The man is NOT wearing a top hat\n",
    "\n",
    "\n",
    "**Response**\n",
    "<br>\n",
    "<img src=\"1867_Images/Packing.webp\" width=\"500\"/>\n",
    "<br>\n",
    "<div class=\"alert alert-block alert-warning\"> Before I received my desired image, there were several image generations which I was not completely happy with. After receiving tips on how to specify my prompts from my peers, I was able to guide Chat GPT-4 on how to change its previous images. My original prompt was too vague, \"This is an image from a diary from 1867. It shows a couple packing for a holiday. Build off this image, refine it and add to it for an illustration for a children's book\"</div>\n",
    "\n",
    "**Previous Responses**\n",
    "<br>\n",
    "<img src=\"1867_Images/Packing1.webp\" width=\"500\"/>\n",
    "<img src=\"1867_Images/Packing3.webp\" width=\"500\"/>\n",
    "<img src=\"1867_Images/Packing2.webp\" width=\"500\"/>\n",
    "\n",
    "<br>\n"
   ]
  },
  {
   "cell_type": "markdown",
   "id": "ec3f1514",
   "metadata": {},
   "source": [
    "<div class=\"alert alert-block alert-warning\"> Some illustrations worked better than others to generate similar images</div>\n",
    "\n",
    "**Prompt**\n",
    "<br>\n",
    "<img src=\"Original_Sketches/mosquito.png\" width=\"500\"/>\n",
    "\n",
    "<br>\n",
    "Turn this drawing of a man mosquito hunting into a cartoon, set in 1867\n",
    "\n",
    "\n",
    "**Response**\n",
    "<br>\n",
    "<img src=\"1867_Images/mosquito.webp\" width=\"700\"/>\n",
    "<br>\n"
   ]
  },
  {
   "cell_type": "markdown",
   "id": "bafa6646",
   "metadata": {},
   "source": [
    "<div class=\"alert alert-block alert-warning\"> Here, is an example of using an extract directly from the diary as a prompt. I accompanied it with an early image of Marseille I found through Google</div>\n",
    "\n",
    "**Prompt**\n",
    "<br>\n",
    "<img src=\"Original_Sketches/marseille.png\" width=\"500\"/>\n",
    "<br>\n",
    "\n",
    "The principal streets also are beautifully clean and many of them planted with fine lofty trees. turn this into a cartoon set in 1867.\n",
    "\n",
    "**Response**\n",
    "<br>\n",
    "<img src=\"1867_Images/marseille.webp\" width=\"700\"/>\n",
    "\n"
   ]
  },
  {
   "cell_type": "markdown",
   "id": "dd68ff6a",
   "metadata": {},
   "source": [
    "<div class=\"alert alert-block alert-warning\"> An example of only using an extract directly from the diary as a prompt</div>\n",
    "\n",
    "**Prompt**\n",
    "<br>\n",
    "generate an image cartoon from this description (1867 nice): Went with Dr Hosack and called on Admiral & Mrs Farragut – both most agreeable. Went to Mr La Croix the English Consul and got passport for Italy. Mrs M. and I dined at Mr Paynters, met Sir Wm Mackenzie, Sir George Bell and a few others, a small but pleasant party. In the evening at the grand reception & ball given by the Americans in Nice to Admiral Farragut, a splendid scene, the rooms of the new casino where the ball was given are very fine. The old King of Bavaria was there & all the other notabilities in Nice. Splendid dresses and the diamonds of the Russian ladies very conspicuous.\n",
    "\n",
    "\n",
    "\n",
    "**Response**\n",
    "<br>\n",
    "<img src=\"1867_Images/ball.webp\" width=\"500\"/>\n",
    "\n"
   ]
  },
  {
   "cell_type": "markdown",
   "id": "5d269702",
   "metadata": {},
   "source": [
    "<div class=\"alert alert-block alert-warning\"> An example of only using the photographs pasted into the diary. I ended up accompanying this with a recent image too, to help guide the generation </div>\n",
    "\n",
    "**Prompt**\n",
    "<br>\n",
    "<img src=\"Original_Sketches/Menton_1967.png\" width=\"500\"/>\n",
    "<img src=\"Original_Sketches/Menton_2010s.png\" width=\"500\"/>\n",
    "<br>\n",
    "this is Menton, one of them is a photo from 1867. Create a cartoon of mention from 1867\n",
    "\n",
    "\n",
    "\n",
    "**Response**\n",
    "<br>\n",
    "<img src=\"1867_Images/Menton.webp\" width=\"500\"/>\n",
    "<br>\n"
   ]
  },
  {
   "cell_type": "markdown",
   "id": "d53ead32",
   "metadata": {},
   "source": [
    "## 2024 Image Generations\n",
    "\n",
    "**Prompt**\n",
    "Generate a cartoon image of a modern girl packing a suitcase for a holiday and adding her stuff to her boyfriends case as it is overweight. It is 2024.\n",
    "\n",
    "**Response**\n",
    "<br>\n",
    "<img src=\"2024_Images/packing.webp\" width=\"500\"/>\n",
    "<br>\n",
    "<div class=\"alert alert-block alert-warning\"> I ended up removing the 2024 text in this image using PhotoShop</div>\n"
   ]
  },
  {
   "cell_type": "markdown",
   "id": "30bd8d66",
   "metadata": {},
   "source": [
    "<div class=\"alert alert-block alert-warning\"> Examples of using a modern photograph to generate a cartoon, I found this achieved the best results and worked a lot quicker than describing scenes</div>\n",
    "\n",
    "**Prompt**\n",
    "<br>\n",
    "<img src=\"2024_Images/Basilica_SS.png\" width=\"500\"/>\n",
    "Create a cartoon of this image\n",
    "<br>\n",
    "**Response**\n",
    "<br>\n",
    "<img src=\"2024_Images/Basilica.webp\" width=\"500\"/>\n",
    "\n",
    "<br>"
   ]
  },
  {
   "cell_type": "markdown",
   "id": "85e60ae9",
   "metadata": {},
   "source": [
    "**Prompt**\n",
    "<br>\n",
    "<img src=\"2024_Images/Marseille_SS.png\" width=\"500\"/>\n",
    "<br>\n",
    "Generate a cartoon of this image of marseille\n",
    "\n",
    "**Response**\n",
    "<br>\n",
    "<img src=\"2024_Images/Marseille.webp\" width=\"500\"/>\n",
    "\n"
   ]
  },
  {
   "cell_type": "markdown",
   "id": "8170c8b7",
   "metadata": {},
   "source": [
    "<div class=\"alert alert-block alert-warning\"> I found that some of the image generations contained errors, for example the output here spells \"Pharmacie\" wrong, therefore, I edited this in PhotoShop</div>\n",
    "\n",
    "**Prompt**\n",
    "<br>\n",
    "<img src=\"2024_Images/Pharmacy_SS.png\" width=\"500\"/>\n",
    "<br>\n",
    "Generate a cartoon of this pharmacie\n",
    "\n",
    "**Response**\n",
    "<br>\n",
    "<img src=\"2024_Images/Pharmacy.webp\" width=\"500\"/>\n",
    "<br>"
   ]
  },
  {
   "cell_type": "markdown",
   "id": "1b791a33",
   "metadata": {},
   "source": [
    "<div class=\"alert alert-block alert-warning\"> The hardest image to generate was one of this unique restaurant, there was a lot of back and forth here! The best approach for this ended up being describing the image in great detail. This approached proved superior to uploading multiple images of the restaurant</div>![image.png]\n",
    "\n",
    "**Prompt**\n",
    "<br>\n",
    "<img src=\"2024_Images/Restraunt_SS.png\" width=\"500\"/>\n",
    "<br>\n",
    "Create an image of a restaurant hovering above the sea on a tall pillar of rock. The dining area is covered with a tent forming a triangular point. The setting is during sunset on a rich riveria coastline, creating a warm and intimate atmosphere. A small bridge connects the restaurant to the shoreline, which isn't far from the sea. The sunset reflecting off the water and casting a golden glow over the restaurant.\n",
    "\n",
    "**Response**\n",
    "<br>\n",
    "<img src=\"2024_Images/Restraunt.webp\" width=\"500\"/>\n",
    "<br>\n",
    "**Initail Responses**\n",
    "<br>\n",
    "<img src=\"2024_Images/Restraunt1.webp\" width=\"500\"/>\n",
    "<img src=\"2024_Images/Restraunt2.webp\" width=\"500\"/>\n",
    "<img src=\"2024_Images/Restraunt3.webp\" width=\"500\"/>\n",
    "<img src=\"2024_Images/Restraunt4.webp\" width=\"500\"/>\n",
    "\n"
   ]
  },
  {
   "cell_type": "markdown",
   "id": "078eacb3",
   "metadata": {},
   "source": [
    "# Text Generations\n",
    "\n",
    "<div class=\"alert alert-block alert-warning\">\n",
    "After I instructed Chat GPT-4 that the captions were intended for a children's storybook, I found using extracts directly from the diary were very effective, or short descriptions if I was using a summary. Upon reflection some of the language used may be too advanced for younger children - if you are using this method be critical throughout, keep your target audience in mind!\n",
    "</div>\n",
    "\n",
    "### 1867\n",
    "\n",
    "\n",
    "**Prompt**\n",
    "<br>\n",
    "<img src=\"1867_Images/Packing.webp\" width=\"300\"/>\n",
    "<br>\n",
    "I am creating a storybook for children based on a couple's travels from 1867 from Glasgow to France. I need you to write a short caption for this image\n",
    "\n",
    "\n",
    "**Response**\n",
    "\n",
    "Packing Panic! Alice and Tom are ready to start their adventure from Glasgow to France, but their room is filled with clothes and travel essentials. While Alice searches through the chest for the perfect outfit, Tom realizes they might have overpacked! Can they find what they need and make it to the train on time? Join them on their exciting journey!\n",
    "\n",
    "<br>\n",
    "<br>\n",
    "\n",
    "**Prompt**\n",
    "\n",
    "Write a caption for the couple exploring Fourvière cathedral in lyon \n",
    "\n",
    "\n",
    "\n",
    "**Response**\n",
    "\n",
    "Exploring Fourvière: Alice and Tom ventured to the iconic Fourvière Cathedral in Lyon, captivated by its stunning architecture and intricate details. As they walked through the grand halls and admired the ornate stained-glass windows, they felt a sense of awe and wonder. The cathedral's majestic beauty and serene atmosphere provided the perfect backdrop for their travels through France\n",
    "\n",
    "<br>\n",
    "<br>\n",
    "\n",
    "**Prompt**\n",
    "\n",
    "This is an extract from the diary, turn it into a caption: We went into a church at Fourvière in the vaults of which we saw a vast heap of the bones of the victims of the revolutionary murders, also to the Church of Fourvières – very old. On these heights was the site of an ancient Roman temple dedicated to Augustus the remains of which & of other Roman works are still to be seen seated over the hill.\n",
    "\n",
    "\n",
    "**Response**\n",
    "\n",
    "A Walk Through History: At the Church of Fourvière in Lyon, Alice and Tom descended into the vaults and came across a vast heap of bones—grim reminders of the Revolutionary murders. Exploring further, they visited the ancient Church of Fourvière, where the history ran even deeper. Perched on the hilltops, they saw the remains of a Roman temple dedicated to Augustus, along with other remnants of Roman architecture, providing a fascinating glimpse into the past\n",
    "\n",
    "<br>\n",
    "<br>\n",
    "\n",
    "**Prompt**\n",
    "\n",
    "Write a caption of them strolling the streets of Marseille based on this extract: We had heard of Marseilles from our friend Mr Gilchrist as a dirty place not worth seeing but I am satisfied from what we saw & what we have since heard that next to Paris it is the finest city in France. The principal streets also are beautifully clean and many of them planted with fine lofty trees.\n",
    "\n",
    "**Response**\n",
    "\n",
    "Strolling Through Marseille: Despite hearing from their friend Mr. Gilchrist that Marseille was dirty and not worth visiting, Alice and Tom found the city to be a delightful surprise. As they wandered through the streets, they were struck by how clean and well-maintained everything was. The principal avenues were lined with fine, towering trees, creating a charming and inviting atmosphere. Marseille quickly became their favorite city in France, second only to Paris\n",
    "\n",
    "<br>\n",
    "<br>"
   ]
  },
  {
   "cell_type": "markdown",
   "id": "354371ef",
   "metadata": {},
   "source": [
    "### 2024\n",
    "\n",
    "**Prompt**\n",
    "\n",
    "Write a short caption for a childrens story book where a young couple are getting ready to go on their holiday to the south of France, the girl is adding some of her clothes to her boyfriends suitcase as hers is too full\n",
    "\n",
    "**Response**\n",
    "\n",
    "Lena's suitcase is bursting at the seams, so she sneaks a few dresses into Ben's bag. Now they're all set for their sunny holiday in the south of France, with plenty of room for memories and adventures!\n",
    "\n",
    "<br>\n",
    "<br>\n",
    "\n",
    "**Prompt**\n",
    "\n",
    "The next morning they go into a cafe with a hipster feel\n",
    "\n",
    "**Response**\n",
    "\n",
    "The next morning, Lena and Ben stepped into a bustling café with a hipster vibe. Exposed brick walls and hanging plants added to the charm, while soft indie music played in the background. The barista, with a neat beard and a flannel shirt, expertly crafted their lattes, adding swirls of foam on top. Lena admired the vintage décor, and Ben couldn't help but notice the aroma of fresh-baked croissants. They settled into a cozy corner, eager to plan their day in the lively streets of Marseille\n",
    "<br>\n",
    "<br>\n",
    "\n",
    "**Prompt**\n",
    "\n",
    "Write about them visiting Colline du Château\n",
    "\n",
    "**Response**\n",
    "\n",
    "Lena and Ben spent a day exploring Colline du Château, a historic hilltop park with panoramic views of Nice. They climbed the winding paths, passing through lush gardens and under towering trees. Along the way, they paused at scenic overlooks, where the entire city unfolded below them.\n",
    "\n",
    "From the top, they could see the sweeping coastline, with the turquoise Mediterranean meeting the sandy beaches, and the vibrant rooftops of Nice stretching out into the distance. The park's ancient ruins and quaint stone structures added a touch of history to their journey. Lena snapped photos of the cascading waterfall, a hidden gem within the park, while Ben marveled at the breathtaking views. It was a tranquil escape from the bustling city, offering a perfect mix of nature and history.\n",
    "\n",
    "<br>\n",
    "<br>"
   ]
  },
  {
   "cell_type": "markdown",
   "id": "876207f1",
   "metadata": {},
   "source": [
    "# Compiling\n",
    "\n",
    "### Alterations\n",
    "\n",
    "Examples of adjustments I made when Dall-E produced an image which had elements that weren't quite right or didn't include what I had asked for. These were altered on PhotoShop.\n",
    "<br>\n",
    "<img src=\"edits/Edits.png\"/>\n",
    "<br>"
   ]
  },
  {
   "cell_type": "markdown",
   "id": "e9671989",
   "metadata": {},
   "source": [
    "### Creating the Storybook\n",
    "All of the images and text were then arranged onto the \"pages\" of a storybook image, created by myself. This step required minimal photo-editing skills and can be achieved using the free online software Canva. This is a great tool for GLAM (galleries, libraries, archives, and museums) institutions to use if they are creating a digital resource like this as it is straight forward to use, without taking any money away from the budget. I then exported the Canva file as a .pptx file, opened it in PowerPoint, then added page turning transitions to make the storybook come to life! The full compilation of the images and text could have been arranged in PowerPoint, however, I find Canva's interface to be easier for a task like this.\n",
    "\n",
    "<div class=\"alert alert-block alert-warning\"> Note: The background used for the storybook is an image of a book which I created using a vector graphics editor. However, with specific enough instructions Dall-E could have been used for this step as well!</div>\n",
    "<br>\n",
    "<img src=\"edits/canva.png\"/>\n",
    "<br>"
   ]
  },
  {
   "cell_type": "markdown",
   "id": "6555c994",
   "metadata": {},
   "source": [
    "<a id=\"FinalProduct\"></a>"
   ]
  },
  {
   "cell_type": "markdown",
   "id": "424e92ba",
   "metadata": {},
   "source": [
    "# Final Product"
   ]
  },
  {
   "cell_type": "markdown",
   "id": "33609ecb",
   "metadata": {},
   "source": [
    "<div class=\"alert alert-block alert-info\">\n",
    "<b>Tip:</b> The next cell contains python code, click on \"run\" to see the contents.\n",
    "</div>"
   ]
  },
  {
   "cell_type": "code",
   "execution_count": 2,
   "id": "44c4cc37",
   "metadata": {},
   "outputs": [
    {
     "data": {
      "text/html": [
       "<video src=\"AI_Project_movie_version.mp4\" controls  width=\"960\"  height=\"540\">\n",
       "      Your browser does not support the <code>video</code> element.\n",
       "    </video>"
      ],
      "text/plain": [
       "<IPython.core.display.Video object>"
      ]
     },
     "execution_count": 2,
     "metadata": {},
     "output_type": "execute_result"
    }
   ],
   "source": [
    "from IPython.display import Video\n",
    "Video(\"AI_Project_movie_version.mp4\", width=960, height=540)"
   ]
  },
  {
   "cell_type": "code",
   "execution_count": 3,
   "id": "cbc6c3ad",
   "metadata": {
    "scrolled": true
   },
   "outputs": [
    {
     "data": {
      "text/html": [
       "\n",
       "        <iframe\n",
       "            width=\"960\"\n",
       "            height=\"700\"\n",
       "            src=\"AI_Project_pdf_version.pdf\"\n",
       "            frameborder=\"0\"\n",
       "            allowfullscreen\n",
       "            \n",
       "        ></iframe>\n",
       "        "
      ],
      "text/plain": [
       "<IPython.lib.display.IFrame at 0x7ff2f8dcb5e0>"
      ]
     },
     "execution_count": 3,
     "metadata": {},
     "output_type": "execute_result"
    }
   ],
   "source": [
    "IFrame(\"AI_Project_pdf_version.pdf\", width=960, height=700)"
   ]
  },
  {
   "cell_type": "markdown",
   "id": "59928127",
   "metadata": {},
   "source": [
    "## Questions to consolidate learning\n",
    "1. How much time do you think passed during Alice and Tom's trip? How much time do you think passed during Lena and Ben's Trip?\n",
    "2. What societal classes do you think the characters were part of?\n",
    "3. What are the similarities between the two timelines?\n",
    "4. What are the differences between the two timelines?\n",
    "5. Do you think it was common for people to go on holiday in the 19th century, in Scotland?"
   ]
  },
  {
   "cell_type": "markdown",
   "id": "95751659",
   "metadata": {},
   "source": [
    "# Reflection \n",
    "**Why use Dall-E at all?**\n",
    "At this point you may be wondering why AI was used at all to generate images when I had access to software like PhotoShop, Affinity Designer (vector graphics editor), and Canva. \n",
    "\n",
    "There are a couple of reasons:\n",
    "1. **Time!!** Using Dall-E to generate the images greatly reduced the time it took to complete the project. 46 images were included in the final prototype - if these were to have drawn digitally it would be at least a month's worth of work.  \n",
    "2. **Skill!!** Being able to produce these images would take a great deal of skill and expertise, its the work for a professional digital illustrator (which I am not). \n",
    "\n",
    "#### Ethical Concerns\n",
    "**Is AI image generation threatening the jobs of professional digital artists?**\n",
    "\n",
    "Articles like these ones from the __[Guardian](https://www.theguardian.com/artanddesign/2023/jan/23/its-the-opposite-of-art-why-illustrators-are-furious-about-ai)__  and __[Business Insider](https://www.businessinsider.com/ai-taking-jobs-fears-artists-say-already-happening-2023-10#:~:text=Artists%20say%20it's%20already%20happening.&text=Fears%20are%20growing%20that%20AI,putting%20their%20livelihoods%20at%20risk.)__  suggest the new technology is beginning to affect entry level jobs. This is a concern, as there is  __[evidence](https://www.forbes.com/sites/ryancraig/2023/04/21/chataclysm-how-ai-will-upend-entry-level-jobs/)__  entry level jobs are or will be affected by AI across various sectors. However, I would argue that the use of AI in this project is intended for cultural heritage institutions, which often have a tight budget. The project is not a large scale exhibition, or even something that is intended to be greatly publicised. It is meant to showcase how GLAM organisations would be able to increase the accessibility and engagement of similar objects that are perhaps fragile or difficult to read. However, as GLAMs are often working on a small budget and limited resources this project highlights how their items can be made accessible when they wouldn't be otherwise - as GLAMs are unlikely to have money to hire a full time digital illustrator.\n",
    "\n",
    "The articles also highlight the backlash AI generated images have caused from existing artists over what constitutes true creativity and art, as well copyright concerns. As Dall-E was trained on two large datasets of images (Wikipedia and YFCC100M++), concerns have been raised on the ethics of AI generating images which may be based on the work of real artists. My own argument against this would be: real people take inspiration from artists they admire, it is how we learn to produce our own style. Arguably, Dall-E has done the same thing - it's style is distinct - in other words - its art looks like it was created by AI. Even if you attempt to copy the style of another artist, there are restrictions put in place to stop this.\n",
    "<br>\n",
    "<img src=\"edits/copyright.png\" width=\"500\"/>\n",
    "<br>\n",
    "If you chose to complete a similar project you should keep these ethical concerns in mind! "
   ]
  },
  {
   "cell_type": "markdown",
   "id": "a6a4d17b",
   "metadata": {},
   "source": [
    "## Sources:\n",
    "\n",
    "‘A History of the French Riviera’ <https://therake.com/stories/a-history-of-the-french-riviera> [accessed 24 April 2024]\n",
    "\n",
    "Ekiz, Ahmet, ‘Creating Table of Contents in Jupyter Notebook’, Medium, 2023 <https://medium.com/@ahmetekiz/creating-table-of-contents-in-jupyter-notebook-52a7c696817f> [accessed 25 April 2024]\n",
    "\n",
    "Hitsuwari, Jimpei, Yoshiyuki Ueda, Woojin Yun, and Michio Nomura, ‘Does Human–AI Collaboration Lead to More Creative Art? Aesthetic Evaluation of Human-Made and AI-Generated Haiku Poetry’, Computers in Human Behavior, 139 (2023), 107502 <https://doi.org/10.1016/j.chb.2022.107502>\n",
    "\n",
    "MacGeorge, Andrew, and Robert McLean, ‘Travel_Diary_transcript_MSGen13-2.Pdf’, 1867\n",
    "\n",
    "Pra, Marco Del, ‘Generative Adversarial Networks’, Medium, 2023 <https://medium.com/@marcodelpra/generative-adversarial-networks-dba10e1b4424> [accessed 25 April 2024]\n",
    "\n",
    "Shaffi, Sarah, ‘“It’s the Opposite of Art”: Why Illustrators Are Furious about AI’, The Guardian, 23 January 2023, section Art and design <https://www.theguardian.com/artanddesign/2023/jan/23/its-the-opposite-of-art-why-illustrators-are-furious-about-ai> [accessed 25 April 2024]\n",
    "\n",
    "‘The History of the French Riviera and Why It’s so Special’, Ultra1911, 2022 <https://ultra1911.com/blogs/news/french-riviera-history> [accessed 24 April 2024]\n",
    "\n",
    "Timothy, Dallen J., ‘Cultural Heritage and Tourism: An Introduction’, in Cultural Heritage and Tourism (Channel View Publications, 2021) <https://www-degruyter-com.ezproxy1.lib.gla.ac.uk/document/doi/10.21832/9781845417727/html> [accessed 25 April 2024]\n",
    "\n",
    "‘Transformer Architecture: The Engine behind ChatGPT’, ThoughtSpot <https://www.thoughtspot.com/data-trends/ai/what-is-transformer-architecture-chatgpt> [accessed 25 April 2024]\n",
    "\n",
    "‘University of Glasgow Collections’ <https://www.gla.ac.uk/collections/#/details?irn=250262&catType=C&gdcEvent=hierarchy_item_view> [accessed 25 April 2024]\n",
    "\n",
    "Wormald, Jenny, Scotland: A History (Oxford, UNITED KINGDOM: Oxford University Press, Incorporated, 2005) <http://ebookcentral.proquest.com/lib/gla/detail.action?docID=422796> [accessed 25 April 2024]\n"
   ]
  }
 ],
 "metadata": {
  "kernelspec": {
   "display_name": "Python 3 (ipykernel)",
   "language": "python",
   "name": "python3"
  },
  "language_info": {
   "codemirror_mode": {
    "name": "ipython",
    "version": 3
   },
   "file_extension": ".py",
   "mimetype": "text/x-python",
   "name": "python",
   "nbconvert_exporter": "python",
   "pygments_lexer": "ipython3",
   "version": "3.10.13"
  }
 },
 "nbformat": 4,
 "nbformat_minor": 5
}
